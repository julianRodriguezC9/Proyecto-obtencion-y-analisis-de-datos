{
 "cells": [
  {
   "cell_type": "code",
   "execution_count": null,
   "metadata": {},
   "outputs": [
    {
     "name": "stdout",
     "output_type": "stream",
     "text": [
      "DEBUGGG ----- OBTENCION DE DATOS \n",
      "\n"
     ]
    }
   ],
   "source": [
    "import import_ipynb\n",
    "import modulo as md\n",
    "import modulo_miscelaneos as misc\n",
    "import csv  # Importación correcta de csv\n",
    "from pprint import pprint\n",
    "\n",
    "COLMO='productos colmo FINAL'\n",
    "DALA=\"productos dala FINAL\"\n",
    "MONTAGNE='productos montagne FINAL'\n",
    "KABRAKUERVO=\"productos kabrakuervo FINAL\"\n",
    "\n",
    "#------------------------------OBTENCION DE DATOS----------------------------------\n",
    "productosColmo=md.obtenerProductosColmo()\n",
    "productosMontagne=md.obtenerProductosMontagne()\n",
    "productosKabraKuervo=md.obtenerProductosKabraKuervo()\n",
    "productosDala=md.obtenerProductosDala()\n",
    "\n",
    "\n",
    "\n",
    "\n",
    "#-----------------------PASAR A CSV DATOS--------------------------------------\n",
    "misc.obtenerCSVDeDiccionario(productosColmo, COLMO)\n",
    "misc.obtenerCSVDeDiccionario(productosMontagne,MONTAGNE)\n",
    "misc.obtenerCSVDeDiccionario(productosKabraKuervo, KABRAKUERVO)\n",
    "misc.obtenerCSVDeDiccionario(productosDala, DALA)\n",
    "print(\"DEBUGGG ----- PASAR CSV\", '\\n')\n",
    "\n",
    "\n",
    "#-----------------------------CONSTRUCCION DATAFRAMES--------------------------------\n",
    "dfColmo=misc.obtenerDataFrame(productosColmo)\n",
    "dfMontagne=misc.obtenerDataFrame(productosMontagne)\n",
    "dfKabraKuervo=misc.obtenerDataFrame(productosKabraKuervo)\n",
    "dfDala=misc.obtenerDataFrame(productosDala)\n",
    "print(\"DEBUGGG ----- CONSTRUCCION DATA FRAMES\", '\\n')\n",
    "\n",
    "\n",
    "\n",
    "\n",
    "#-----------------------Analisis de los archivos para ver si tienen valores nulos y eliminar filas que lo tengan----------------\n",
    "if misc.tieneValoresNulos(COLMO):\n",
    "    dfColmo=misc.eliminarFilasConValoresNulos(dfColmo)\n",
    "\n",
    "if misc.tieneValoresNulos(MONTAGNE):\n",
    "    dfMontagne=misc.eliminarFilasConValoresNulos(dfMontagne)\n",
    "\n",
    "if misc.tieneValoresNulos(DALA):\n",
    "   dfDala=md.eliminarFilasConValoresNulos(dfDala)\n",
    "\n",
    "if misc.tieneValoresNulos(KABRAKUERVO):\n",
    "   dfKabraKuervo=md.eliminarFilasConValoresNulos(dfKabraKuervo)\n",
    "\n",
    "\n",
    "#------------------------ESCRIBIR NUEVOS CSVs ACTUALIZADOS----------------------------\n",
    "dfColmo.to_csv(COLMO+\" Actualizado\", index=False)\n",
    "dfMontagne.to_csv(MONTAGNE+\" Actualizado\", index=False)\n",
    "dfKabraKuervo.to_csv(KABRAKUERVO+\" Actualizado\", index=False)\n",
    "dfDala.to_csv(DALA+\" Actualizado\", index=False)\n",
    "\n",
    "\n",
    "\n"
   ]
  }
 ],
 "metadata": {
  "kernelspec": {
   "display_name": "Python 3",
   "language": "python",
   "name": "python3"
  },
  "language_info": {
   "codemirror_mode": {
    "name": "ipython",
    "version": 3
   },
   "file_extension": ".py",
   "mimetype": "text/x-python",
   "name": "python",
   "nbconvert_exporter": "python",
   "pygments_lexer": "ipython3",
   "version": "3.13.2"
  }
 },
 "nbformat": 4,
 "nbformat_minor": 2
}
