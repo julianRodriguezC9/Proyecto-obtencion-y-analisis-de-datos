{
 "cells": [
  {
   "cell_type": "code",
   "execution_count": null,
   "metadata": {},
   "outputs": [],
   "source": [
    "import csv\n",
    "import pandas as pd\n",
    "#-----------------------------MISCELANEAS----------------------------------\n",
    "def obtenerCSVDeDiccionario(diccionario, nombre_archivo):\n",
    "    with open(nombre_archivo, mode='w', newline='', encoding='utf-8') as archivo:\n",
    "        # Obtener las claves del diccionario (cabeceras del CSV)\n",
    "        campos = diccionario[0].keys()\n",
    "\n",
    "        # Crear el objeto escritor de CSV\n",
    "        writer = csv.DictWriter(archivo, fieldnames=campos)\n",
    "\n",
    "        # Escribir las cabeceras\n",
    "        writer.writeheader()\n",
    "\n",
    "        # Escribir las filas del diccionario\n",
    "        writer.writerows(diccionario)\n",
    "    return 0\n",
    "\n",
    "\n",
    "\n",
    "def tieneValoresNulos(archivoCSV):\n",
    "    lectura= pd.read_csv(archivoCSV)\n",
    "    nulos = lectura.isnull().sum()\n",
    "    if (nulos > 0).any():\n",
    "        print(\"Hay valores nulos en las siguientes columnas:\")\n",
    "        print(nulos[nulos > 0])\n",
    "        return True\n",
    "    else:\n",
    "        print(\"no hay valores nulos\", '\\n')\n",
    "        return False\n",
    "    \n",
    "\n",
    "def obtenerDataFrame(diccionario):\n",
    "    return pd.DataFrame(diccionario)\n",
    "\n",
    "\n",
    "def eliminarFilasConValoresNulos(dataframe):\n",
    "    return dataframe.dropna()\n",
    "\n",
    "\n",
    "\n",
    "def obtenerCSV(dataframe,nombre):\n",
    "    dataframe.to_csv(nombre,index=False)\n",
    "    return"
   ]
  }
 ],
 "metadata": {
  "kernelspec": {
   "display_name": "Python 3",
   "language": "python",
   "name": "python3"
  },
  "language_info": {
   "codemirror_mode": {
    "name": "ipython",
    "version": 3
   },
   "file_extension": ".py",
   "mimetype": "text/x-python",
   "name": "python",
   "nbconvert_exporter": "python",
   "pygments_lexer": "ipython3",
   "version": "3.13.2"
  }
 },
 "nbformat": 4,
 "nbformat_minor": 2
}
